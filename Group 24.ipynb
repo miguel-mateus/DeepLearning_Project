{
 "cells": [
  {
   "cell_type": "markdown",
   "metadata": {
    "id": "Tcd-h0csCpOe"
   },
   "source": [
    "# Imports"
   ]
  },
  {
   "cell_type": "code",
   "execution_count": 17,
   "metadata": {
    "id": "7hpuwVkH4MJX"
   },
   "outputs": [],
   "source": [
    "!pip install -U -q PyDrive #Comment if not using Google Colab\n",
    "\n",
    "import os, shutil\n",
    "from os import path\n",
    "from pydrive.auth import GoogleAuth\n",
    "from pydrive.drive import GoogleDrive\n",
    "from google.colab import auth\n",
    "from oauth2client.client import GoogleCredentials\n",
    "import zipfile\n",
    "import keras\n",
    "import tensorflow as tf\n",
    "from keras import models \n",
    "from keras import layers\n",
    "from keras import optimizers\n",
    "from keras import regularizers\n",
    "from keras.preprocessing.image import ImageDataGenerator\n",
    "import pandas as pd \n",
    "import scipy.io\n",
    "import numpy as np\n",
    "import matplotlib\n",
    "import matplotlib.pyplot as plt\n",
    "import matplotlib.cm as cm\n",
    "from sklearn.metrics import classification_report, confusion_matrix\n",
    "from keras.preprocessing import image\n",
    "from keras import backend as K\n",
    "from IPython.display import Image, display\n",
    "import keras.backend as K\n",
    "\n",
    "import sklearn.metrics as metrics\n",
    "from sklearn.metrics import accuracy_score, f1_score, precision_score, recall_score\n",
    "from sklearn.model_selection import StratifiedKFold\n",
    "import random\n",
    "\n",
    "from sklearn.model_selection import GridSearchCV\n",
    "from sklearn.neighbors import KNeighborsClassifier\n",
    "from sklearn.ensemble import AdaBoostClassifier, RandomForestClassifier\n",
    "\n",
    "# Set a random seed\n",
    "from numpy.random import seed\n",
    "seed(1)"
   ]
  },
  {
   "cell_type": "markdown",
   "metadata": {
    "id": "pT_W28X5EpSV"
   },
   "source": [
    "# Functions"
   ]
  },
  {
   "cell_type": "code",
   "execution_count": 18,
   "metadata": {
    "id": "Ua7LRUHzEpuN"
   },
   "outputs": [],
   "source": [
    "#Adapted from https://aakashgoel12.medium.com/how-to-add-user-defined-function-get-f1-score-in-keras-metrics-3013f979ce0d\n",
    "\n",
    "def get_f1(y_true, y_pred): #taken from old keras source code\n",
    "    true_positives = K.sum(K.round(K.clip(y_true * y_pred, 0, 1)))\n",
    "    possible_positives = K.sum(K.round(K.clip(y_true, 0, 1)))\n",
    "    predicted_positives = K.sum(K.round(K.clip(y_pred, 0, 1)))\n",
    "    precision = true_positives / (predicted_positives + K.epsilon())\n",
    "    recall = true_positives / (possible_positives + K.epsilon())\n",
    "    f1_val = 2*(precision*recall)/(precision+recall+K.epsilon())\n",
    "    return f1_val"
   ]
  },
  {
   "cell_type": "code",
   "execution_count": 19,
   "metadata": {
    "id": "xM9GnW0AOHpa"
   },
   "outputs": [],
   "source": [
    "#Adapted from https://github.com/SadmanSakib93/Stratified-k-fold-cross-validation-Image-classification-keras\n",
    "\n",
    "def transferBetweenFolders(source, dest, splitRate):   \n",
    "    global sourceFiles\n",
    "    sourceFiles=os.listdir(source)\n",
    "    if(len(sourceFiles)!=0):\n",
    "        transferFileNumbers=int(len(sourceFiles)*splitRate)\n",
    "        transferIndex=random.sample(range(0, len(sourceFiles)), transferFileNumbers)\n",
    "        for eachIndex in transferIndex:\n",
    "            shutil.move(source+str(sourceFiles[eachIndex]), dest+str(sourceFiles[eachIndex]))\n",
    "    else:\n",
    "        print(\"No file moved. Source empty!\")\n",
    "        \n",
    "def transferAllClassBetweenFolders(source, dest, splitRate):\n",
    "    for label in classLabels:\n",
    "        transferBetweenFolders(datasetFolderName+'/'+source+'/'+label+'/', \n",
    "                               datasetFolderName+'/'+dest+'/'+label+'/', \n",
    "                               splitRate)\n",
    "        \n",
    "def my_metrics(y_true, y_pred):\n",
    "    accuracy=accuracy_score(y_true, y_pred)\n",
    "    precision=precision_score(y_true, y_pred)\n",
    "    recall=recall_score(y_true, y_pred)\n",
    "    f1Score=f1_score(y_true, y_pred, average='micro') \n",
    "    print(\"Accuracy  : {}\".format(accuracy))\n",
    "    print(\"Precision : {}\".format(precision))\n",
    "    print(\"Recall : {}\".format(recall))\n",
    "    print(\"f1Score : {}\".format(f1Score))\n",
    "    cm=confusion_matrix(y_true, y_pred)\n",
    "    print(cm)\n",
    "    return accuracy, precision, recall, f1Score"
   ]
  },
  {
   "cell_type": "code",
   "execution_count": null,
   "metadata": {
    "id": "V-zNqTpQGrQK"
   },
   "outputs": [],
   "source": [
    "#Adapted from https://keras.io/examples/vision/grad_cam/\n",
    "\n",
    "def make_gradcam_heatmap(img_array, model, last_conv_layer_name, pred_index=None):\n",
    "    # First, we create a model that maps the input image to the activations\n",
    "    # of the last conv layer as well as the output predictions\n",
    "    grad_model = tf.keras.models.Model(\n",
    "        [model.inputs], [model.get_layer(last_conv_layer_name).output, model.output]\n",
    "    )\n",
    "\n",
    "    # Then, we compute the gradient of the top predicted class for our input image\n",
    "    # with respect to the activations of the last conv layer\n",
    "    with tf.GradientTape() as tape:\n",
    "        last_conv_layer_output, preds = grad_model(img_array)\n",
    "        if pred_index is None:\n",
    "            pred_index = tf.argmax(preds[0])\n",
    "        class_channel = preds[:, pred_index]\n",
    "\n",
    "    # This is the gradient of the output neuron (top predicted or chosen)\n",
    "    # with regard to the output feature map of the last conv layer\n",
    "    grads = tape.gradient(class_channel, last_conv_layer_output)\n",
    "\n",
    "    # This is a vector where each entry is the mean intensity of the gradient\n",
    "    # over a specific feature map channel\n",
    "    pooled_grads = tf.reduce_mean(grads, axis=(0, 1, 2))\n",
    "\n",
    "    # We multiply each channel in the feature map array\n",
    "    # by \"how important this channel is\" with regard to the top predicted class\n",
    "    # then sum all the channels to obtain the heatmap class activation\n",
    "    last_conv_layer_output = last_conv_layer_output[0]\n",
    "    heatmap = last_conv_layer_output @ pooled_grads[..., tf.newaxis]\n",
    "    heatmap = tf.squeeze(heatmap)\n",
    "\n",
    "    # For visualization purpose, we will also normalize the heatmap between 0 & 1\n",
    "    heatmap = tf.maximum(heatmap, 0) / tf.math.reduce_max(heatmap)\n",
    "    return heatmap.numpy()\n",
    "\n",
    "def save_and_display_gradcam(img_path, heatmap, cam_path=\"cam.jpg\", alpha=0.4):\n",
    "    # Load the original image\n",
    "    img = keras.preprocessing.image.load_img(img_path)\n",
    "    img = keras.preprocessing.image.img_to_array(img)\n",
    "\n",
    "    # Rescale heatmap to a range 0-255\n",
    "    heatmap = np.uint8(255 * heatmap)\n",
    "\n",
    "    # Use jet colormap to colorize heatmap\n",
    "    jet = cm.get_cmap(\"jet\")\n",
    "\n",
    "    # Use RGB values of the colormap\n",
    "    jet_colors = jet(np.arange(256))[:, :3]\n",
    "    jet_heatmap = jet_colors[heatmap]\n",
    "\n",
    "    # Create an image with RGB colorized heatmap\n",
    "    jet_heatmap = keras.preprocessing.image.array_to_img(jet_heatmap)\n",
    "    jet_heatmap = jet_heatmap.resize((img.shape[1], img.shape[0]))\n",
    "    jet_heatmap = keras.preprocessing.image.img_to_array(jet_heatmap)\n",
    "\n",
    "    # Superimpose the heatmap on original image\n",
    "    superimposed_img = jet_heatmap * alpha + img\n",
    "    superimposed_img = keras.preprocessing.image.array_to_img(superimposed_img)\n",
    "\n",
    "    # Save the superimposed image\n",
    "    superimposed_img.save(cam_path)\n",
    "\n",
    "    # Display Grad CAM\n",
    "    display(Image(cam_path))"
   ]
  },
  {
   "cell_type": "code",
   "execution_count": null,
   "metadata": {
    "id": "ZI4uWuckHBtn"
   },
   "outputs": [],
   "source": [
    "def metrics_val(y_val, pred_val):\n",
    "    \n",
    "    print('___________________________________________________________________________________________________________')\n",
    "    print('                                                VALIDATION                                                 ')\n",
    "    print('-----------------------------------------------------------------------------------------------------------')\n",
    "    print(classification_report(y_val, pred_val))\n",
    "    print(confusion_matrix(y_val, pred_val))\n",
    "    print('F1-score, micro: ',f1_score(y_val, pred_val, average = 'micro'))"
   ]
  },
  {
   "cell_type": "markdown",
   "metadata": {
    "id": "qxQ6ipNwDDwK"
   },
   "source": [
    "# Download Data Using Google Colab"
   ]
  },
  {
   "cell_type": "code",
   "execution_count": 2,
   "metadata": {
    "id": "tjBaSySh_W6c"
   },
   "outputs": [],
   "source": [
    "#Authenticate and create the PyDrive client.\n",
    "auth.authenticate_user()\n",
    "gauth = GoogleAuth()\n",
    "gauth.credentials = GoogleCredentials.get_application_default()\n",
    "drive = GoogleDrive(gauth)"
   ]
  },
  {
   "cell_type": "code",
   "execution_count": 3,
   "metadata": {
    "colab": {
     "base_uri": "https://localhost:8080/"
    },
    "id": "nQ5gAhuh5FUd",
    "outputId": "0ef17ef6-947c-4a1a-9852-effe9578d12b"
   },
   "outputs": [
    {
     "name": "stdout",
     "output_type": "stream",
     "text": [
      "title: model2.2.h5, id: 1SKFQ-1VRZZvvjp8_ksNBM6FM-qhyErPv\n",
      "downloading to /root/data/model2.2.h5\n",
      "title: DataSet.zip, id: 1BeacQpDbIvJCk93KrpJxxsoeAcS_8ySo\n",
      "downloading to /root/data/DataSet.zip\n"
     ]
    }
   ],
   "source": [
    "#Choose a local (colab) directory to store the data.\n",
    "local_download_path = os.path.expanduser('~/data')\n",
    "try:\n",
    "  os.makedirs(local_download_path)\n",
    "except: pass\n",
    "\n",
    "#Auto-iterate using the query syntax\n",
    "file_list = drive.ListFile(\n",
    "    {'q': \"'1tQbRH3uO-mwTbViQTNdzs_4x-UnUkoSz' in parents\"}).GetList()\n",
    "\n",
    "for f in file_list:\n",
    "  #Create & download by id.\n",
    "  print('title: %s, id: %s' % (f['title'], f['id']))\n",
    "  fname = os.path.join(local_download_path, f['title'])\n",
    "  print('downloading to {}'.format(fname))\n",
    "  f_ = drive.CreateFile({'id': f['id']})\n",
    "  f_.GetContentFile(fname)"
   ]
  },
  {
   "cell_type": "code",
   "execution_count": 4,
   "metadata": {
    "id": "KWiG4_vp5z2S"
   },
   "outputs": [],
   "source": [
    "with zipfile.ZipFile('/root/data/DataSet.zip', 'r') as zip_ref:\n",
    "    zip_ref.extractall('/root/data')"
   ]
  },
  {
   "cell_type": "markdown",
   "metadata": {
    "id": "44Llx0GdDNaT"
   },
   "source": [
    "# Data Preprocessing"
   ]
  },
  {
   "cell_type": "code",
   "execution_count": 8,
   "metadata": {
    "id": "WnY31jz3AD6X"
   },
   "outputs": [],
   "source": [
    "#Code used to reorganize the data in to new splits\n",
    "\n",
    "# #Move all data to the same folders\n",
    "\n",
    "# #Destination folders\n",
    "# dst_normal = 'C:/Users/Eurico/Documents/DeepLearning/secondTheme/chest_xray/AllData/NORMAL'\n",
    "# dst_pneumonia = 'C:/Users/Eurico/Documents/DeepLearning/secondTheme/chest_xray/AllData/PNEUMONIA'\n",
    "\n",
    "# #Original folders\n",
    "# src_normal = ['C:/Users/Eurico/Documents/DeepLearning/secondTheme/chest_xray/train/NORMAL',\n",
    "#              'C:/Users/Eurico/Documents/DeepLearning/secondTheme/chest_xray/val/NORMAL',\n",
    "#              'C:/Users/Eurico/Documents/DeepLearning/secondTheme/chest_xray/test/NORMAL']\n",
    "\n",
    "# src_pneumonia = ['C:/Users/Eurico/Documents/DeepLearning/secondTheme/chest_xray/train/PNEUMONIA',\n",
    "#              'C:/Users/Eurico/Documents/DeepLearning/secondTheme/chest_xray/val/PNEUMONIA',\n",
    "#              'C:/Users/Eurico/Documents/DeepLearning/secondTheme/chest_xray/test/PNEUMONIA']\n",
    "\n",
    "# #Loop to copy data from original folders to destination folders\n",
    "# for j in src_normal:\n",
    "#     files = [i for i in os.listdir(j)]\n",
    "#     for f in files:\n",
    "#         shutil.copy(path.join(j, f), dst_normal)\n",
    "        \n",
    "# for j in src_pneumonia:\n",
    "#     files = [i for i in os.listdir(j)]\n",
    "#     for f in files:\n",
    "#         shutil.copy(path.join(j, f), dst_pneumonia)\n",
    "\n",
    "# #Create train, val, test split (70, 15, 15)\n",
    "\n",
    "# #Destination folders\n",
    "# dst_normal = ['C:/Users/Eurico/Documents/DeepLearning/secondTheme/chest_xray/DataSet/train/NORMAL',\n",
    "#              'C:/Users/Eurico/Documents/DeepLearning/secondTheme/chest_xray/DataSet/val/NORMAL',\n",
    "#              'C:/Users/Eurico/Documents/DeepLearning/secondTheme/chest_xray/DataSet/test/NORMAL']\n",
    "\n",
    "# dst_pneumonia = ['C:/Users/Eurico/Documents/DeepLearning/secondTheme/chest_xray/DataSet/train/PNEUMONIA',\n",
    "#              'C:/Users/Eurico/Documents/DeepLearning/secondTheme/chest_xray/DataSet/val/PNEUMONIA',\n",
    "#              'C:/Users/Eurico/Documents/DeepLearning/secondTheme/chest_xray/DataSet/test/PNEUMONIA']\n",
    "\n",
    "# #Source folders\n",
    "# src_normal = 'C:/Users/Eurico/Documents/DeepLearning/secondTheme/chest_xray/AllData/NORMAL'\n",
    "# src_pneumonia = 'C:/Users/Eurico/Documents/DeepLearning/secondTheme/chest_xray/AllData/PNEUMONIA'\n",
    "\n",
    "# #Files (images) in source folders\n",
    "# files_normal = [i for i in os.listdir(src_normal)]\n",
    "# files_pneumonia = [i for i in os.listdir(src_pneumonia)]\n",
    "\n",
    "# #Counters\n",
    "# count_normal = 1\n",
    "# count_pneumonia = 1\n",
    "\n",
    "# #Loops to copy images to destination folders\n",
    "# for f in files_normal:\n",
    "#     if count_normal <= 1108:\n",
    "#         shutil.copy(path.join(src_normal, f), dst_normal[0]) \n",
    "#     elif count_normal <= (1108+238):\n",
    "#         shutil.copy(path.join(src_normal, f), dst_normal[1])\n",
    "#     else:\n",
    "#         shutil.copy(path.join(src_normal, f), dst_normal[2])\n",
    "#     count_normal = count_normal + 1\n",
    "    \n",
    "# for f in files_pneumonia:\n",
    "#     if count_pneumonia <= 2993:\n",
    "#         shutil.copy(path.join(src_pneumonia, f), dst_pneumonia[0]) \n",
    "#     elif count_pneumonia <= (2993+640):\n",
    "#         shutil.copy(path.join(src_pneumonia, f), dst_pneumonia[1])\n",
    "#     else:\n",
    "#         shutil.copy(path.join(src_pneumonia, f), dst_pneumonia[2])\n",
    "#     count_pneumonia = count_pneumonia + 1"
   ]
  },
  {
   "cell_type": "code",
   "execution_count": 9,
   "metadata": {
    "id": "CIxR-YssU7_O"
   },
   "outputs": [],
   "source": [
    "#Code used to produce oversampling dataset trough data augmentation\n",
    "\n",
    "#Data augmentation used\n",
    "# train_augment_datagen = ImageDataGenerator(rescale = 1./255,\n",
    "#                                   rotation_range=40,\n",
    "#                                   width_shift_range=0.2,\n",
    "#                                   height_shift_range=0.2,\n",
    "#                                   shear_range=0.2,\n",
    "#                                   zoom_range=0.2,\n",
    "#                                   fill_mode='nearest')\n",
    "\n",
    "# train_augment_set = train_augment_datagen.flow_from_directory('C:/Users/Eurico/Documents/DeepLearning/secondTheme/chest_xray/DataSet/train/', \n",
    "#                                                  target_size = (75, 75),\n",
    "#                                                  batch_size = 20,\n",
    "#                                                  class_mode = 'binary',\n",
    "                                                 \n",
    "#                                                 )\n",
    "\n",
    "# count = 1\n",
    "\n",
    "# for images, labels in train_augment_set:\n",
    "#     for i in range(20):\n",
    "#         if labels[i] == 0: #If the data augmented image is of the minority label, save itt\n",
    "#             matplotlib.image.imsave('C:/Users/Eurico/Documents/DeepLearning/secondTheme/chest_xray/DataSet_Oversampling/train/NORMAL/augmented'+str(count)+'.jpeg', images[i])\n",
    "#             count = count + 1\n",
    "#             if count >= 1885: #When the desired number of images are created aand saved, stop the loop\n",
    "#                 break\n",
    "#     if count >= 1885:\n",
    "#         break\n",
    "\n",
    "# #After, the train folder name was renamed to train_DataAugmented as to not conflict with the following code"
   ]
  },
  {
   "cell_type": "code",
   "execution_count": 10,
   "metadata": {
    "id": "rmT8utzF9-LE"
   },
   "outputs": [],
   "source": [
    "#Code used to produce oversampling dataset trough random oversampling\n",
    "\n",
    "# classLabels=['NORMAL', 'PNEUMONIA']\n",
    "# datasetFolderName='C:/Users/Eurico/Documents/DeepLearning/secondTheme/chest_xray/DataSet_Oversampling'\n",
    "\n",
    "# X=[]\n",
    "# Y=[]\n",
    "\n",
    "# #Save all of the minority class image names\n",
    "# def prepareNameWithLabels(folderName):\n",
    "#     sourceFiles=os.listdir(datasetFolderName+'/train/'+folderName)\n",
    "#     for val in sourceFiles:\n",
    "#         X.append(val)\n",
    "#         if(folderName==classLabels[0]):\n",
    "#             Y.append(0)\n",
    "#         elif(folderName==classLabels[1]):\n",
    "#             Y.append(1)\n",
    "            \n",
    "# prepareNameWithLabels(classLabels[0])\n",
    "\n",
    "# #Randomly select one image and duplicate it, until the minority class has the same number of images as the majority\n",
    "# for i in range(1885):\n",
    "#     image = random.choice(X)\n",
    "#     shutil.copy(path.join(datasetFolderName+'/train/'+classLabels[0], image), datasetFolderName+'/train/'+classLabels[0]+'/'+image+str(i)+'.jpeg')\n",
    "    \n",
    "# #After, the train folder name was renamed to train_RandomOversampling as to not conflict with the following code"
   ]
  },
  {
   "cell_type": "code",
   "execution_count": 11,
   "metadata": {
    "id": "2RxvhIKi-BQE"
   },
   "outputs": [],
   "source": [
    "#Code used to produce oversampling dataset trough random undersampling\n",
    "\n",
    "# classLabels=['NORMAL', 'PNEUMONIA']\n",
    "# datasetFolderName='C:/Users/Eurico/Documents/DeepLearning/secondTheme/chest_xray/DataSet_Oversampling'\n",
    "\n",
    "# X=[]\n",
    "# Y=[]\n",
    "\n",
    "# #Save all of the majority class image names\n",
    "# def prepareNameWithLabels(folderName):\n",
    "#     sourceFiles=os.listdir(datasetFolderName+'/train/'+folderName)\n",
    "#     for val in sourceFiles:\n",
    "#         X.append(val)\n",
    "#         if(folderName==classLabels[0]):\n",
    "#             Y.append(0)\n",
    "#         elif(folderName==classLabels[1]):\n",
    "#             Y.append(1)\n",
    "            \n",
    "# prepareNameWithLabels(classLabels[1])\n",
    "\n",
    "# #Randomly select one image and delete it, until the majority class has the same number of images as the minority\n",
    "# for i in range(1885):\n",
    "#     image = random.choice(X)\n",
    "#     os.remove(datasetFolderName+'/train/'+classLabels[1]+'/'+image)\n",
    "#     X.remove(image)\n",
    "    \n",
    "# #After, the train folder name was renamed to train_RandomUndersampling as to not conflict with the following code"
   ]
  },
  {
   "cell_type": "code",
   "execution_count": 12,
   "metadata": {
    "id": "eZUzTSo7DZoU"
   },
   "outputs": [],
   "source": [
    "train_datagen = ImageDataGenerator(rescale = 1./255)\n",
    "\n",
    "#Generator for augmented data\n",
    "train_augment_datagen = ImageDataGenerator(rescale = 1./255,\n",
    "                                  rotation_range=40,\n",
    "                                  width_shift_range=0.2,\n",
    "                                  height_shift_range=0.2,\n",
    "                                  shear_range=0.2,\n",
    "                                  zoom_range=0.4,\n",
    "                                  fill_mode='nearest')\n",
    "\n",
    "val_datagen = ImageDataGenerator(rescale = 1./255)\n",
    "\n",
    "test_datagen = ImageDataGenerator(rescale = 1./255)"
   ]
  },
  {
   "cell_type": "code",
   "execution_count": 13,
   "metadata": {
    "colab": {
     "base_uri": "https://localhost:8080/"
    },
    "id": "4bbl3h3wDsMa",
    "outputId": "e3a45f34-9fa5-43a6-d7f5-19e6d67603d4"
   },
   "outputs": [
    {
     "name": "stdout",
     "output_type": "stream",
     "text": [
      "Found 4101 images belonging to 2 classes.\n",
      "Found 4101 images belonging to 2 classes.\n",
      "Found 878 images belonging to 2 classes.\n",
      "Found 4101 images belonging to 2 classes.\n",
      "Found 878 images belonging to 2 classes.\n",
      "Found 877 images belonging to 2 classes.\n"
     ]
    }
   ],
   "source": [
    "train_set = train_datagen.flow_from_directory('/root/data/DataSet/train/', \n",
    "                                                 target_size = (75, 75),\n",
    "                                                 batch_size = 20,\n",
    "                                                 class_mode = 'binary',\n",
    "                                                 color_mode = 'grayscale',\n",
    "                                                 seed=1\n",
    "                                                )\n",
    "\n",
    "train_augment_set = train_augment_datagen.flow_from_directory('/root/data/DataSet/train/', \n",
    "                                                 target_size = (75, 75),\n",
    "                                                 batch_size = 20,\n",
    "                                                 class_mode = 'binary',\n",
    "                                                 color_mode = 'grayscale',\n",
    "                                                 seed=1\n",
    "                                                )\n",
    "\n",
    "val_set = val_datagen.flow_from_directory('/root/data/DataSet/val/', \n",
    "                                            target_size = (75, 75),\n",
    "                                            batch_size = 20,\n",
    "                                            class_mode = 'binary',\n",
    "                                            color_mode = 'grayscale',\n",
    "                                            seed=1\n",
    "                                           )\n",
    "#To be used for feature extraction of the training data\n",
    "train_set_fe = train_datagen.flow_from_directory('/root/data/DataSet/train/', \n",
    "                                                 target_size = (75, 75),\n",
    "                                                 batch_size = 1,\n",
    "                                                 class_mode = 'binary',\n",
    "                                                 color_mode = 'grayscale',\n",
    "                                                 seed=1,\n",
    "                                                 shuffle=False\n",
    "                                                )\n",
    "#To be used for the confusion matrix of the validation data\n",
    "val_set_cm = val_datagen.flow_from_directory('/root/data/DataSet/val/', \n",
    "                                            target_size = (75, 75),\n",
    "                                            batch_size = 1,\n",
    "                                            class_mode = 'binary',\n",
    "                                            seed=1,\n",
    "                                            color_mode = 'grayscale',\n",
    "                                            shuffle=False\n",
    "                                           )\n",
    "\n",
    "test_set = test_datagen.flow_from_directory('/root/data/DataSet/test/', \n",
    "                                            target_size = (75, 75),\n",
    "                                            batch_size = 1,\n",
    "                                            class_mode = 'binary',\n",
    "                                            seed=1,\n",
    "                                            color_mode = 'grayscale',\n",
    "                                            shuffle = False\n",
    "                                           )"
   ]
  },
  {
   "cell_type": "markdown",
   "metadata": {
    "id": "oJ0tO7Ld8qbW"
   },
   "source": [
    "# Tensorboard"
   ]
  },
  {
   "cell_type": "code",
   "execution_count": 5,
   "metadata": {
    "id": "yZoJ3dqx8vwW"
   },
   "outputs": [],
   "source": [
    "#Create log directory\n",
    "!mkdir /root/data/logs\n",
    "\n",
    "#Load tensorboard\n",
    "%load_ext tensorboard\n",
    "\n",
    "#Launch tensorboard\n",
    "%tensorboard --logdir /root/data/logs"
   ]
  },
  {
   "cell_type": "code",
   "execution_count": null,
   "metadata": {
    "id": "0F3h1xPeA48U"
   },
   "outputs": [],
   "source": [
    "#Used when running a second model\n",
    "\n",
    "#Delete log folder\n",
    "#!rm -rf /root/data/logs"
   ]
  },
  {
   "cell_type": "markdown",
   "metadata": {
    "id": "wHIJpp7NDTUg"
   },
   "source": [
    "# Model Creation and Training"
   ]
  },
  {
   "cell_type": "code",
   "execution_count": null,
   "metadata": {
    "id": "uSn2pyKJvSXl"
   },
   "outputs": [],
   "source": [
    "callbacks_list= [keras.callbacks.TensorBoard(log_dir='/root/data/logs', histogram_freq=1),\n",
    "                 keras.callbacks.EarlyStopping(monitor = 'acc', patience=3), \n",
    "                 keras.callbacks.ModelCheckpoint(filepath=\"/root/data/DataSet/model.h5\", monitor =\"val_loss\", save_best_only=True)]"
   ]
  },
  {
   "cell_type": "code",
   "execution_count": null,
   "metadata": {
    "id": "Qsj5fdZe4JOP"
   },
   "outputs": [],
   "source": [
    "#Model 2.2\n",
    "model = models.Sequential()\n",
    "model.add(layers.Conv2D(16, (3,3), activation='relu', input_shape=(75,75,1)))\n",
    "model.add(layers.MaxPooling2D((2,2), strides=2))\n",
    "model.add(layers.Conv2D(32, (3,3), activation='relu'))\n",
    "model.add(layers.MaxPooling2D((2,2), strides=2))\n",
    "model.add(layers.Conv2D(64, (3,3), activation='relu'))\n",
    "model.add(layers.MaxPooling2D((2,2), strides=2))\n",
    "model.add(layers.Conv2D(128, (3,3), activation='relu'))\n",
    "model.add(layers.MaxPooling2D((2,2), strides=2))\n",
    "model.add(layers.Flatten())\n",
    "model.add(layers.Dense(512, activation='relu'))\n",
    "model.add(layers.Dense(256, activation='relu'))\n",
    "model.add(layers.Dense(1, activation='sigmoid'))\n",
    "\n",
    "model.compile(loss='binary_crossentropy', optimizer=optimizers.RMSprop(lr=1e-4), metrics=[keras.metrics.Recall(), keras.metrics.AUC(),'acc'])"
   ]
  },
  {
   "cell_type": "code",
   "execution_count": 6,
   "metadata": {
    "id": "HheOplUw4JOV"
   },
   "outputs": [],
   "source": [
    "hist= model.fit(\n",
    "        train_set,\n",
    "        steps_per_epoch= 4101//20,\n",
    "        epochs= 50,\n",
    "        validation_data=val_set,\n",
    "        validation_steps=878//20, \n",
    "        callbacks=callbacks_list\n",
    "        )"
   ]
  },
  {
   "cell_type": "markdown",
   "metadata": {
    "id": "rF8NUwdkFFbf"
   },
   "source": [
    "# Model Assessment"
   ]
  },
  {
   "cell_type": "code",
   "execution_count": null,
   "metadata": {
    "id": "XocTFY634JOW"
   },
   "outputs": [],
   "source": [
    "acc = hist.history['acc']\n",
    "val_acc = hist.history['val_acc']\n",
    "loss = hist.history['loss']\n",
    "val_loss = hist.history['val_loss']\n",
    "\n",
    "epochs = range(1, len(acc)+1)\n",
    "\n",
    "plt.plot(epochs, acc, 'bo', label='Training acc')\n",
    "plt.plot(epochs, val_acc, 'b', label='Validation acc')\n",
    "plt.title('Training and validation accuracy')\n",
    "plt.ylabel('Accuracy')\n",
    "plt.xlabel('Epochs')\n",
    "plt.legend()\n",
    "\n",
    "plt.figure()\n",
    "\n",
    "plt.plot(epochs, loss, 'bo', label='Training loss')\n",
    "plt.plot(epochs, val_loss, 'b', label='Validation loss')\n",
    "plt.title('Training and validation loss')\n",
    "plt.ylabel('Loss')\n",
    "plt.xlabel('Epochs')\n",
    "plt.legend()\n",
    "\n",
    "plt.show()"
   ]
  },
  {
   "cell_type": "code",
   "execution_count": 7,
   "metadata": {
    "id": "pdtLUGRIGuwV"
   },
   "outputs": [],
   "source": [
    "#model = models.load_model('/root/data/model2.2.h5') #best model"
   ]
  },
  {
   "cell_type": "code",
   "execution_count": 16,
   "metadata": {
    "colab": {
     "base_uri": "https://localhost:8080/"
    },
    "id": "0Uxovqcs4JOX",
    "outputId": "6716f65d-5079-43f6-84fb-7e60a732f6f7"
   },
   "outputs": [
    {
     "name": "stdout",
     "output_type": "stream",
     "text": [
      "Confusion Matrix\n",
      "[[227  11]\n",
      " [  2 638]]\n",
      "Classification Report\n",
      "              precision    recall  f1-score   support\n",
      "\n",
      "      Normal       0.99      0.95      0.97       238\n",
      "   Pneumonia       0.98      1.00      0.99       640\n",
      "\n",
      "    accuracy                           0.99       878\n",
      "   macro avg       0.99      0.98      0.98       878\n",
      "weighted avg       0.99      0.99      0.99       878\n",
      "\n",
      "F1-Score:  0.9851936218678815\n"
     ]
    }
   ],
   "source": [
    "Y_pred = model.predict(val_set_cm,878) \n",
    "Y_pred = (Y_pred>0.5)\n",
    "print('Confusion Matrix')\n",
    "print(confusion_matrix(val_set_cm.classes, Y_pred))\n",
    "print('Classification Report')\n",
    "target_names = ['Normal', 'Pneumonia']\n",
    "print(classification_report(val_set_cm.classes, Y_pred, target_names=target_names))\n",
    "f1 = f1_score(val_set_cm.classes, Y_pred, average='micro')\n",
    "print('F1-Score: ', f1)"
   ]
  },
  {
   "cell_type": "code",
   "execution_count": 15,
   "metadata": {
    "colab": {
     "base_uri": "https://localhost:8080/"
    },
    "id": "amzkQ3dbGvCg",
    "outputId": "b39f393c-50a7-4dab-daef-b7601a7bb35f"
   },
   "outputs": [
    {
     "name": "stdout",
     "output_type": "stream",
     "text": [
      "Confusion Matrix\n",
      "[[204  33]\n",
      " [ 15 625]]\n",
      "Classification Report\n",
      "              precision    recall  f1-score   support\n",
      "\n",
      "      Normal       0.93      0.86      0.89       237\n",
      "   Pneumonia       0.95      0.98      0.96       640\n",
      "\n",
      "    accuracy                           0.95       877\n",
      "   macro avg       0.94      0.92      0.93       877\n",
      "weighted avg       0.94      0.95      0.94       877\n",
      "\n",
      "F1-Score:  0.9452679589509693\n"
     ]
    }
   ],
   "source": [
    "Y_pred = model.predict(test_set,877) \n",
    "Y_pred = (Y_pred>0.5)\n",
    "print('Confusion Matrix')\n",
    "print(confusion_matrix(test_set.classes, Y_pred))\n",
    "print('Classification Report')\n",
    "target_names = ['Normal', 'Pneumonia']\n",
    "print(classification_report(test_set.classes, Y_pred, target_names=target_names))\n",
    "f1 = f1_score(test_set.classes, Y_pred, average='micro')\n",
    "print('F1-Score: ', f1)"
   ]
  },
  {
   "cell_type": "code",
   "execution_count": null,
   "metadata": {
    "colab": {
     "base_uri": "https://localhost:8080/",
     "height": 294
    },
    "id": "pODCV2F_5xT5",
    "outputId": "e2c8fd93-5ce2-411f-ff71-41667643be5d"
   },
   "outputs": [
    {
     "data": {
      "image/png": "[encoded data removed]",
      "text/plain": [
       "<Figure size 432x288 with 1 Axes>"
      ]
     },
     "metadata": {
      "needs_background": "light",
      "tags": []
     },
     "output_type": "display_data"
    }
   ],
   "source": [
    "preds = model.predict(test_set,877) \n",
    "fpr, tpr, threshold = metrics.roc_curve(test_set.classes, preds)\n",
    "roc_auc = metrics.auc(fpr, tpr)\n",
    "\n",
    "plt.title('ROC Curve for MLP Classifier')\n",
    "plt.plot(fpr, tpr, 'b', label = 'AUC = %0.5f' % roc_auc)\n",
    "plt.legend(loc = 'lower right')\n",
    "plt.plot([0, 1], [0, 1],'r--')\n",
    "plt.xlim([0, 1])\n",
    "plt.ylim([0, 1])\n",
    "plt.ylabel('True Positive Rate')\n",
    "plt.xlabel('False Positive Rate')\n",
    "plt.show()"
   ]
  },
  {
   "cell_type": "markdown",
   "metadata": {
    "id": "g6X4OUo5009g"
   },
   "source": [
    "# K-fold Cross Validation"
   ]
  },
  {
   "cell_type": "code",
   "execution_count": null,
   "metadata": {
    "id": "pFI-wzHF3Wt3"
   },
   "outputs": [],
   "source": [
    "#Adapted from https://github.com/SadmanSakib93/Stratified-k-fold-cross-validation-Image-classification-keras\n",
    "\n",
    "# #Create folder for val partition of the training splits\n",
    "# !mkdir /root/data/DataSet/val_train_fold\n",
    "# !mkdir /root/data/DataSet/val_train_fold/NORMAL\n",
    "# !mkdir /root/data/DataSet/val_train_fold/PNEUMONIA\n",
    "\n",
    "# datasetFolderName='/root/data/DataSet'\n",
    "# sourceFiles=[]\n",
    "# classLabels=['NORMAL', 'PNEUMONIA']"
   ]
  },
  {
   "cell_type": "code",
   "execution_count": null,
   "metadata": {
    "id": "BCxHvFkR57_w"
   },
   "outputs": [],
   "source": [
    "#Adapted from https://github.com/SadmanSakib93/Stratified-k-fold-cross-validation-Image-classification-keras\n",
    "\n",
    "# X=[]\n",
    "# Y=[]\n",
    "\n",
    "# def prepareNameWithLabels(folderName):\n",
    "#     sourceFiles=os.listdir(datasetFolderName+'/train/'+folderName)\n",
    "#     for val in sourceFiles:\n",
    "#         X.append(val)\n",
    "#         if(folderName==classLabels[0]):\n",
    "#             Y.append(0)\n",
    "#         elif(folderName==classLabels[1]):\n",
    "#             Y.append(1)\n",
    "       \n",
    "# # Organize file names and class labels in X and Y variables\n",
    "# prepareNameWithLabels(classLabels[0])\n",
    "# prepareNameWithLabels(classLabels[1])\n",
    "      \n",
    "# X=np.asarray(X)\n",
    "# Y=np.asarray(Y)\n",
    "\n",
    "# # learning rate\n",
    "# batch_size = 20\n",
    "# epochs=50\n",
    "# activationFunction='relu'\n",
    "\n",
    "# def getModel():\n",
    "#     model = models.Sequential()\n",
    "#     model.add(layers.Conv2D(16, (3,3), activation='relu', input_shape=(75,75,1)))\n",
    "#     model.add(layers.MaxPooling2D((2,2), strides=2))\n",
    "#     model.add(layers.Conv2D(32, (3,3), activation='relu'))\n",
    "#     model.add(layers.MaxPooling2D((2,2), strides=2))\n",
    "#     model.add(layers.Conv2D(64, (3,3), activation='relu'))\n",
    "#     model.add(layers.MaxPooling2D((2,2), strides=2))\n",
    "#     model.add(layers.Conv2D(128, (3,3), activation='relu'))\n",
    "#     model.add(layers.MaxPooling2D((2,2), strides=2))\n",
    "#     model.add(layers.Flatten())\n",
    "#     model.add(layers.Dense(512, activation='relu'))\n",
    "#     model.add(layers.Dense(256, activation='relu'))\n",
    "#     model.add(layers.Dense(1, activation='sigmoid'))\n",
    "\n",
    "#     model.compile(loss='binary_crossentropy', optimizer=optimizers.RMSprop(lr=1e-4), metrics=['acc'])\n",
    "\n",
    "#     return model\n",
    "\n",
    "# # input image dimensions\n",
    "# img_rows, img_cols =  75, 75\n",
    "\n",
    "# train_path=datasetFolderName+'/train/'\n",
    "# validation_path=datasetFolderName+'/val_train_fold/'\n",
    "# model=getModel()\n",
    "# acc_avg=[]\n",
    "# prec_avg=[]\n",
    "# rec_avg=[]\n",
    "# f1_agv=[]\n",
    "# # ===============Stratified K-Fold======================\n",
    "# skf = StratifiedKFold(n_splits=3, shuffle=True)\n",
    "# skf.get_n_splits(X, Y)\n",
    "# foldNum=0\n",
    "# for train_index, val_index in skf.split(X, Y):\n",
    "#     #First cut all images from validation to train (if any exists)\n",
    "#     transferAllClassBetweenFolders('val_train_fold', 'train', 1.0)\n",
    "#     foldNum+=1\n",
    "#     print(\"Results for fold\",foldNum)\n",
    "#     X_train, X_val = X[train_index], X[val_index]\n",
    "#     Y_train, Y_val = Y[train_index], Y[val_index]\n",
    "#     # Move validation images of this fold from train folder to the validation folder\n",
    "#     for eachIndex in range(len(X_val)):\n",
    "#         classLabel=''\n",
    "#         if(Y_val[eachIndex]==0):\n",
    "#             classLabel=classLabels[0]\n",
    "#         elif(Y_val[eachIndex]==1):\n",
    "#             classLabel=classLabels[1]\n",
    " \n",
    "#         #Then, copy the validation images to the validation folder\n",
    "#         shutil.move(datasetFolderName+'/train/'+classLabel+'/'+X_val[eachIndex], \n",
    "#                     datasetFolderName+'/val_train_fold/'+classLabel+'/'+X_val[eachIndex])\n",
    "        \n",
    "#     train_datagen_kf = ImageDataGenerator(\n",
    "#                        rescale=1./255,\n",
    "#                        )\n",
    "#     validation_datagen_kf = ImageDataGenerator(rescale=1./255)\n",
    "        \n",
    "#     #Start ImageClassification Model\n",
    "#     train_generator_kf = train_datagen_kf.flow_from_directory(\n",
    "#                           train_path,\n",
    "#                           target_size=(img_rows, img_cols),\n",
    "#                           batch_size=batch_size,\n",
    "#                           class_mode='binary',\n",
    "#                           color_mode = 'grayscale',\n",
    "#                           )\n",
    "\n",
    "#     validation_generator_kf = validation_datagen_kf.flow_from_directory(\n",
    "#                               validation_path,\n",
    "#                               target_size=(img_rows, img_cols),\n",
    "#                               batch_size=batch_size,\n",
    "#                               class_mode='binary',\n",
    "#                               color_mode = 'grayscale',\n",
    "#                               )  \n",
    "    \n",
    "#     validation_generator_2 = validation_datagen_kf.flow_from_directory(\n",
    "#                              validation_path,\n",
    "#                              target_size=(img_rows, img_cols),\n",
    "#                              batch_size=1,\n",
    "#                              class_mode='binary',\n",
    "#                              color_mode = 'grayscale',\n",
    "#                              shuffle=False)   \n",
    "    \n",
    "#     # fit model\n",
    "#     callbacks_list= [keras.callbacks.EarlyStopping(monitor = 'acc', patience=5), \n",
    "#                      keras.callbacks.ModelCheckpoint(filepath=\"/root/data/DataSet/my_model.h5\", \n",
    "#                                                       monitor =\"val_loss\", save_best_only=True)]\n",
    "#     model=getModel()\n",
    "\n",
    "#     history= model.fit(\n",
    "#         train_generator_kf,\n",
    "#         epochs= epochs,\n",
    "#         steps_per_epoch=len(train_index)//batch_size,\n",
    "#         validation_data=validation_generator_kf,\n",
    "#         validation_steps=len(val_index)//batch_size, \n",
    "#         callbacks=callbacks_list\n",
    "#         )\n",
    "    \n",
    "#     predictions = model.predict(validation_generator_2,len(val_index)) # ceil(num_of_test_samples / batch_size)\n",
    "#     yPredictions = (predictions>0.5)\n",
    "#     true_classes = validation_generator_2.classes\n",
    "#     # evaluate validation performance\n",
    "#     print(\"***Performance on Validation data***\")    \n",
    "#     valAcc, valPrec, valRec, valFScore = my_metrics(true_classes, yPredictions)\n",
    "#     acc_avg.append(valAcc)\n",
    "#     prec_avg.append(valPrec)\n",
    "#     rec_avg.append(valRec)\n",
    "#     f1_agv.append(valFScore)\n",
    "\n",
    "# #Place all of the training data back to the training folder\n",
    "# transferAllClassBetweenFolders('val_train_fold', 'train', 1.0)\n",
    "\n",
    "# #Delete folders we no longer need\n",
    "# !rm -rf /root/data/DataSet/val_train_fold/PNEUMONIA\n",
    "# !rm -rf /root/data/DataSet/val_train_fold/NORMAL\n",
    "# !rm -rf /root/data/DataSet/val_train_fold"
   ]
  },
  {
   "cell_type": "code",
   "execution_count": null,
   "metadata": {
    "id": "hwv2zvtWyX8r"
   },
   "outputs": [],
   "source": [
    "# print('Metric----------Average---------StandardDeviation')\n",
    "# print('Accuracy: ',np.mean(acc_avg),np.std(acc_avg))\n",
    "# print('Precision:',np.mean(prec_avg),np.std(prec_avg))\n",
    "# print('Recall:   ',np.mean(rec_avg),np.std(rec_avg))\n",
    "# print('F1-score: ',np.mean(f1_agv),np.std(f1_agv))"
   ]
  },
  {
   "cell_type": "markdown",
   "metadata": {
    "id": "FbMk8XqK15KS"
   },
   "source": [
    "# Grad-CAM"
   ]
  },
  {
   "cell_type": "code",
   "execution_count": null,
   "metadata": {
    "colab": {
     "base_uri": "https://localhost:8080/"
    },
    "id": "0X4arQRgwJQ-",
    "outputId": "8137f6ee-752f-42b0-a3f7-f6013d7ce48c"
   },
   "outputs": [
    {
     "name": "stderr",
     "output_type": "stream",
     "text": [
      "/usr/local/lib/python3.7/dist-packages/keras_preprocessing/image/utils.py:107: UserWarning: grayscale is deprecated. Please use color_mode = \"grayscale\"\n",
      "  warnings.warn('grayscale is deprecated. Please use '\n"
     ]
    }
   ],
   "source": [
    "img_path = '/root/data/DataSet/test/PNEUMONIA/person861_virus_1506.jpeg'\n",
    "\n",
    "img = image.load_img(img_path, target_size=(75,75), grayscale=True)\n",
    "\n",
    "x = image.img_to_array(img)\n",
    "\n",
    "x = np.expand_dims(x, axis=0)\n",
    "\n",
    "x = x/255"
   ]
  },
  {
   "cell_type": "code",
   "execution_count": null,
   "metadata": {
    "colab": {
     "base_uri": "https://localhost:8080/"
    },
    "id": "mGHHecUuq6Jp",
    "outputId": "1bf5af8a-54b9-4fd1-a119-3afa2cff7f88"
   },
   "outputs": [
    {
     "data": {
      "text/plain": [
       "array([[0.9998159]], dtype=float32)"
      ]
     },
     "execution_count": 455,
     "metadata": {
      "tags": []
     },
     "output_type": "execute_result"
    }
   ],
   "source": [
    "model.predict(x)"
   ]
  },
  {
   "cell_type": "code",
   "execution_count": null,
   "metadata": {
    "colab": {
     "base_uri": "https://localhost:8080/",
     "height": 274
    },
    "id": "ChJfnYNywZx0",
    "outputId": "4ccae5c7-02ec-4e62-cdbd-e6b3a9bdf306"
   },
   "outputs": [
    {
     "data": {
      "image/png": "[encoded data removed]",
      "text/plain": [
       "<Figure size 288x288 with 1 Axes>"
      ]
     },
     "metadata": {
      "needs_background": "light",
      "tags": []
     },
     "output_type": "display_data"
    }
   ],
   "source": [
    "# Generate class activation heatmap\n",
    "\n",
    "heatmap = make_gradcam_heatmap(x, model, 'conv2d_31')\n",
    "\n",
    "# Display heatmap\n",
    "plt.matshow(heatmap)\n",
    "plt.show()"
   ]
  },
  {
   "cell_type": "code",
   "execution_count": null,
   "metadata": {
    "colab": {
     "base_uri": "https://localhost:8080/",
     "height": 553
    },
    "id": "pdfRf-S3wfLA",
    "outputId": "0236acd2-2a12-452a-a6bb-e7b395be667c"
   },
   "outputs": [
    {
     "data": {
      "image/jpeg": "[encoded data removed]",
      "text/plain": [
       "<IPython.core.display.Image object>"
      ]
     },
     "metadata": {
      "tags": []
     },
     "output_type": "display_data"
    }
   ],
   "source": [
    "save_and_display_gradcam(img_path, heatmap)"
   ]
  },
  {
   "cell_type": "markdown",
   "metadata": {
    "id": "6xK-UhgPuHCu"
   },
   "source": [
    "# Feature extraction from CNN"
   ]
  },
  {
   "cell_type": "code",
   "execution_count": null,
   "metadata": {
    "colab": {
     "base_uri": "https://localhost:8080/"
    },
    "id": "MjMl0I4PucFI",
    "outputId": "f98be71c-0dd3-4c52-fe48-12f5d7904d4b"
   },
   "outputs": [
    {
     "name": "stdout",
     "output_type": "stream",
     "text": [
      "Model: \"sequential_7\"\n",
      "_________________________________________________________________\n",
      "Layer (type)                 Output Shape              Param #   \n",
      "=================================================================\n",
      "conv2d_28 (Conv2D)           (None, 73, 73, 16)        160       \n",
      "_________________________________________________________________\n",
      "max_pooling2d_28 (MaxPooling (None, 36, 36, 16)        0         \n",
      "_________________________________________________________________\n",
      "conv2d_29 (Conv2D)           (None, 34, 34, 32)        4640      \n",
      "_________________________________________________________________\n",
      "max_pooling2d_29 (MaxPooling (None, 17, 17, 32)        0         \n",
      "_________________________________________________________________\n",
      "conv2d_30 (Conv2D)           (None, 15, 15, 64)        18496     \n",
      "_________________________________________________________________\n",
      "max_pooling2d_30 (MaxPooling (None, 7, 7, 64)          0         \n",
      "_________________________________________________________________\n",
      "conv2d_31 (Conv2D)           (None, 5, 5, 128)         73856     \n",
      "_________________________________________________________________\n",
      "max_pooling2d_31 (MaxPooling (None, 2, 2, 128)         0         \n",
      "_________________________________________________________________\n",
      "flatten_7 (Flatten)          (None, 512)               0         \n",
      "_________________________________________________________________\n",
      "dense_21 (Dense)             (None, 512)               262656    \n",
      "_________________________________________________________________\n",
      "dense_22 (Dense)             (None, 256)               131328    \n",
      "_________________________________________________________________\n",
      "dense_23 (Dense)             (None, 1)                 257       \n",
      "=================================================================\n",
      "Total params: 491,393\n",
      "Trainable params: 491,393\n",
      "Non-trainable params: 0\n",
      "_________________________________________________________________\n"
     ]
    }
   ],
   "source": [
    "model.summary()"
   ]
  },
  {
   "cell_type": "code",
   "execution_count": null,
   "metadata": {
    "id": "sxHuLBUCuvoW"
   },
   "outputs": [],
   "source": [
    "#Uses only the convolutional layers of the model\n",
    "\n",
    "feature_extractor = models.Sequential()\n",
    "\n",
    "for layer in model.layers[:-3]: #loops until the flattening layer\n",
    "    feature_extractor.add(layer)"
   ]
  },
  {
   "cell_type": "code",
   "execution_count": null,
   "metadata": {
    "id": "lQlHhsC3xRKh"
   },
   "outputs": [],
   "source": [
    "csv_train = open('/root/data/DataSet/csv_train.csv', \"w\")\n",
    "csv_val = open('/root/data/DataSet/csv_val.csv', \"w\")\n",
    "csv_test = open('/root/data/DataSet/csv_test.csv', \"w\")"
   ]
  },
  {
   "cell_type": "code",
   "execution_count": null,
   "metadata": {
    "id": "7IeF8NOKvOV7"
   },
   "outputs": [],
   "source": [
    "#Extraction of features\n",
    "\n",
    "features_train = feature_extractor.predict(train_set_fe,4101)\n",
    "features_val = feature_extractor.predict(val_set_cm,878)\n",
    "features_test = feature_extractor.predict(test_set,877)"
   ]
  },
  {
   "cell_type": "code",
   "execution_count": null,
   "metadata": {
    "id": "gczdBVevwzJB"
   },
   "outputs": [],
   "source": [
    "#Writtes the features in a csv file\n",
    "\n",
    "#Adapted from https://www.pyimagesearch.com/2019/05/27/keras-feature-extraction-on-large-datasets-with-deep-learning/\n",
    "\n",
    "for (label, vec) in zip(train_set_fe.classes, features_train):\n",
    "\t\t\t# construct a row that exists of the class label and\n",
    "\t\t\t# extracted features\n",
    "\t\t\tvec = \",\".join([str(v) for v in vec])\n",
    "\t\t\tcsv_train.write(\"{},{}\\n\".format(label, vec))\n",
    "   \n",
    "csv_train.close()\n",
    "\n",
    "for (label, vec) in zip(val_set_cm.classes, features_val):\n",
    "\t\t\t# construct a row that exists of the class label and\n",
    "\t\t\t# extracted features\n",
    "\t\t\tvec = \",\".join([str(v) for v in vec])\n",
    "\t\t\tcsv_val.write(\"{},{}\\n\".format(label, vec))\n",
    "   \n",
    "csv_val.close()\n",
    "\n",
    "for (label, vec) in zip(test_set.classes, features_test):\n",
    "\t\t\t# construct a row that exists of the class label and\n",
    "\t\t\t# extracted features\n",
    "\t\t\tvec = \",\".join([str(v) for v in vec])\n",
    "\t\t\tcsv_test.write(\"{},{}\\n\".format(label, vec))\n",
    "   \n",
    "csv_test.close()"
   ]
  },
  {
   "cell_type": "markdown",
   "metadata": {
    "id": "VOKKyqLn3aeA"
   },
   "source": [
    "# AdaBoost"
   ]
  },
  {
   "cell_type": "code",
   "execution_count": null,
   "metadata": {
    "id": "p1XgEx7pyMDO"
   },
   "outputs": [],
   "source": [
    "train = pd.read_csv('/root/data/DataSet/csv_train.csv', header = None)\n",
    "val = pd.read_csv('/root/data/DataSet/csv_val.csv', header = None)\n",
    "test = pd.read_csv('/root/data/DataSet/csv_test.csv', header = None)"
   ]
  },
  {
   "cell_type": "code",
   "execution_count": null,
   "metadata": {
    "id": "eAJxnviOyUUo"
   },
   "outputs": [],
   "source": [
    "#Shuffles the rows in train val and test\n",
    "\n",
    "train = train.sample(frac=1).reset_index(drop=True)\n",
    "val = val.sample(frac=1).reset_index(drop=True)\n",
    "test = test.sample(frac=1).reset_index(drop=True)"
   ]
  },
  {
   "cell_type": "code",
   "execution_count": null,
   "metadata": {
    "id": "yHduP3YH1ALz"
   },
   "outputs": [],
   "source": [
    "y_train = train[0]\n",
    "x_train = train.drop(columns = 0)\n",
    "\n",
    "y_val = val[0]\n",
    "x_val = val.drop(columns = 0)\n",
    "\n",
    "y_test = test[0]\n",
    "x_test = test.drop(columns = 0)"
   ]
  },
  {
   "cell_type": "code",
   "execution_count": null,
   "metadata": {
    "colab": {
     "base_uri": "https://localhost:8080/"
    },
    "id": "QrFHv1Nt46Wk",
    "outputId": "09a3f96a-ea60-4563-faa2-e5dc2ec2188b"
   },
   "outputs": [
    {
     "data": {
      "text/plain": [
       "{'learning_rate': 1, 'n_estimators': 100}"
      ]
     },
     "execution_count": 61,
     "metadata": {
      "tags": []
     },
     "output_type": "execute_result"
    }
   ],
   "source": [
    "# AdaBoost = AdaBoostClassifier(random_state = 15)\n",
    "\n",
    "# parameter_space_Ada = {\n",
    "#     'n_estimators': [10,50,100],\n",
    "#    'learning_rate': [1,0.1,0.01],\n",
    "# }\n",
    "\n",
    "# AdaBoost = GridSearchCV(AdaBoost, parameter_space_Ada, scoring='f1_micro', n_jobs = -1, cv=10)\n",
    "# AdaBoost.fit(x_train, y_train)\n",
    "# AdaBoost.best_params_\n",
    "#{'learning_rate': 1, 'n_estimators': 100} "
   ]
  },
  {
   "cell_type": "code",
   "execution_count": null,
   "metadata": {
    "colab": {
     "base_uri": "https://localhost:8080/"
    },
    "id": "m5weRFr45cOE",
    "outputId": "76a39b86-1763-4d1f-d4bd-96e35c6958a1"
   },
   "outputs": [
    {
     "name": "stdout",
     "output_type": "stream",
     "text": [
      "___________________________________________________________________________________________________________\n",
      "                                                VALIDATION                                                 \n",
      "-----------------------------------------------------------------------------------------------------------\n",
      "              precision    recall  f1-score   support\n",
      "\n",
      "           0       0.93      0.96      0.95       238\n",
      "           1       0.99      0.97      0.98       640\n",
      "\n",
      "    accuracy                           0.97       878\n",
      "   macro avg       0.96      0.97      0.96       878\n",
      "weighted avg       0.97      0.97      0.97       878\n",
      "\n",
      "[[229   9]\n",
      " [ 17 623]]\n",
      "F1-score, micro:  0.9703872437357631\n"
     ]
    }
   ],
   "source": [
    "AdaBoost = AdaBoostClassifier(n_estimators=100, learning_rate=1, random_state = 15)\n",
    "\n",
    "AdaBoost.fit(x_train, y_train)\n",
    "\n",
    "metrics_val(y_val, AdaBoost.predict(x_val))"
   ]
  },
  {
   "cell_type": "markdown",
   "metadata": {
    "id": "xplGek0lliUT"
   },
   "source": [
    "# K-Nearest Neighbors"
   ]
  },
  {
   "cell_type": "code",
   "execution_count": null,
   "metadata": {
    "colab": {
     "base_uri": "https://localhost:8080/"
    },
    "id": "wS-plc11_B1S",
    "outputId": "d64c9e4b-5296-461e-b43b-d9fe86a1a7bc"
   },
   "outputs": [
    {
     "data": {
      "text/plain": [
       "{'n_neighbors': 5}"
      ]
     },
     "execution_count": 69,
     "metadata": {
      "tags": []
     },
     "output_type": "execute_result"
    }
   ],
   "source": [
    "# knn = KNeighborsClassifier()\n",
    "\n",
    "# parameter_space_knn = {\n",
    "#     'n_neighbors': [1,5,10],\n",
    "# }\n",
    "\n",
    "# knn = GridSearchCV(knn, parameter_space_knn, scoring='f1_micro', n_jobs = -1, cv=10)\n",
    "# knn.fit(x_train, y_train)\n",
    "# knn.best_params_\n",
    "# {'n_neighbors': 5}"
   ]
  },
  {
   "cell_type": "code",
   "execution_count": null,
   "metadata": {
    "colab": {
     "base_uri": "https://localhost:8080/"
    },
    "id": "UsMCFZ1X9Unr",
    "outputId": "c618798a-a3ec-4f09-8173-1624a58270ca"
   },
   "outputs": [
    {
     "name": "stdout",
     "output_type": "stream",
     "text": [
      "___________________________________________________________________________________________________________\n",
      "                                                VALIDATION                                                 \n",
      "-----------------------------------------------------------------------------------------------------------\n",
      "              precision    recall  f1-score   support\n",
      "\n",
      "           0       0.92      0.97      0.95       238\n",
      "           1       0.99      0.97      0.98       640\n",
      "\n",
      "    accuracy                           0.97       878\n",
      "   macro avg       0.96      0.97      0.96       878\n",
      "weighted avg       0.97      0.97      0.97       878\n",
      "\n",
      "[[231   7]\n",
      " [ 19 621]]\n",
      "F1-score, micro:  0.9703872437357631\n"
     ]
    }
   ],
   "source": [
    "knn = KNeighborsClassifier(n_neighbors=5)\n",
    "\n",
    "knn.fit(x_train, y_train)\n",
    "metrics_val(y_val, knn.predict(x_val))"
   ]
  },
  {
   "cell_type": "markdown",
   "metadata": {
    "id": "VCvpmW4xlfTW"
   },
   "source": [
    "# Random Forest"
   ]
  },
  {
   "cell_type": "code",
   "execution_count": null,
   "metadata": {
    "colab": {
     "base_uri": "https://localhost:8080/"
    },
    "id": "lEh4K9QDjmqW",
    "outputId": "f2430d7f-fa9c-463f-ec35-7c2bc352051c"
   },
   "outputs": [
    {
     "data": {
      "text/plain": [
       "{'n_estimators': 100}"
      ]
     },
     "execution_count": 104,
     "metadata": {
      "tags": []
     },
     "output_type": "execute_result"
    }
   ],
   "source": [
    "# rf = RandomForestClassifier(max_features='sqrt', random_state=15)\n",
    "\n",
    "# parameter_space_rf = {\n",
    "#     'n_estimators': [10,25,50,100],\n",
    "# }\n",
    "\n",
    "# rf = GridSearchCV(rf, parameter_space_rf, scoring='f1_micro', n_jobs = -1, cv=10)\n",
    "# rf.fit(x_train, y_train)\n",
    "# rf.best_params_"
   ]
  },
  {
   "cell_type": "code",
   "execution_count": null,
   "metadata": {
    "colab": {
     "base_uri": "https://localhost:8080/"
    },
    "id": "6oRpFjh7iBid",
    "outputId": "24e69173-7b34-425a-b70b-127395cb618a"
   },
   "outputs": [
    {
     "name": "stdout",
     "output_type": "stream",
     "text": [
      "___________________________________________________________________________________________________________\n",
      "                                                VALIDATION                                                 \n",
      "-----------------------------------------------------------------------------------------------------------\n",
      "              precision    recall  f1-score   support\n",
      "\n",
      "           0       0.92      0.98      0.95       238\n",
      "           1       0.99      0.97      0.98       640\n",
      "\n",
      "    accuracy                           0.97       878\n",
      "   macro avg       0.96      0.97      0.97       878\n",
      "weighted avg       0.97      0.97      0.97       878\n",
      "\n",
      "[[233   5]\n",
      " [ 19 621]]\n",
      "F1-score, micro:  0.9726651480637815\n"
     ]
    }
   ],
   "source": [
    "rf = RandomForestClassifier(n_estimators=100, max_features='sqrt', random_state=15)\n",
    "\n",
    "rf.fit(x_train, y_train)\n",
    "metrics_val(y_val, rf.predict(x_val))"
   ]
  }
 ],
 "metadata": {
  "colab": {
   "name": "Deep learning.ipynb",
   "provenance": [],
   "toc_visible": true
  },
  "kernelspec": {
   "display_name": "Python 3",
   "language": "python",
   "name": "python3"
  },
  "language_info": {
   "codemirror_mode": {
    "name": "ipython",
    "version": 3
   },
   "file_extension": ".py",
   "mimetype": "text/x-python",
   "name": "python",
   "nbconvert_exporter": "python",
   "pygments_lexer": "ipython3",
   "version": "3.8.5"
  },
  "toc": {
   "base_numbering": 1,
   "nav_menu": {},
   "number_sections": true,
   "sideBar": true,
   "skip_h1_title": false,
   "title_cell": "Table of Contents",
   "title_sidebar": "Contents",
   "toc_cell": false,
   "toc_position": {},
   "toc_section_display": true,
   "toc_window_display": false
  },
  "varInspector": {
   "cols": {
    "lenName": 16,
    "lenType": 16,
    "lenVar": 40
   },
   "kernels_config": {
    "python": {
     "delete_cmd_postfix": "",
     "delete_cmd_prefix": "del ",
     "library": "var_list.py",
     "varRefreshCmd": "print(var_dic_list())"
    },
    "r": {
     "delete_cmd_postfix": ") ",
     "delete_cmd_prefix": "rm(",
     "library": "var_list.r",
     "varRefreshCmd": "cat(var_dic_list()) "
    }
   },
   "types_to_exclude": [
    "module",
    "function",
    "builtin_function_or_method",
    "instance",
    "_Feature"
   ],
   "window_display": false
  }
 },
 "nbformat": 4,
 "nbformat_minor": 1
}
